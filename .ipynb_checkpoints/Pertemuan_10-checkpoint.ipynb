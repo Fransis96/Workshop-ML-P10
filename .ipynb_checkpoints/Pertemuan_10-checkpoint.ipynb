{
 "cells": [
  {
   "cell_type": "markdown",
   "id": "77a4e520-75f9-45c5-847f-d7e319686544",
   "metadata": {},
   "source": [
    "## Pertemuan 8 (10)"
   ]
  },
  {
   "cell_type": "code",
   "execution_count": null,
   "id": "4211ff3c-e7e1-498e-a0e1-087d8f35d2de",
   "metadata": {},
   "outputs": [],
   "source": []
  },
  {
   "cell_type": "markdown",
   "id": "b0e2e424-3a6d-45e4-bf1c-c48abd08e474",
   "metadata": {},
   "source": [
    "#### Fuzy C-Means dengan k = 3"
   ]
  },
  {
   "cell_type": "code",
   "execution_count": 1,
   "id": "018bd75e-9449-4d23-96b8-2b0e9c690229",
   "metadata": {},
   "outputs": [
    {
     "ename": "ModuleNotFoundError",
     "evalue": "No module named 'skfuzzy'",
     "output_type": "error",
     "traceback": [
      "\u001b[1;31m---------------------------------------------------------------------------\u001b[0m",
      "\u001b[1;31mModuleNotFoundError\u001b[0m                       Traceback (most recent call last)",
      "Cell \u001b[1;32mIn[1], line 3\u001b[0m\n\u001b[0;32m      1\u001b[0m \u001b[38;5;28;01mimport\u001b[39;00m \u001b[38;5;21;01mnumpy\u001b[39;00m \u001b[38;5;28;01mas\u001b[39;00m \u001b[38;5;21;01mnp\u001b[39;00m\n\u001b[0;32m      2\u001b[0m \u001b[38;5;28;01mimport\u001b[39;00m \u001b[38;5;21;01mpandas\u001b[39;00m \u001b[38;5;28;01mas\u001b[39;00m \u001b[38;5;21;01mpd\u001b[39;00m\n\u001b[1;32m----> 3\u001b[0m \u001b[38;5;28;01mimport\u001b[39;00m \u001b[38;5;21;01mskfuzzy\u001b[39;00m \u001b[38;5;28;01mas\u001b[39;00m \u001b[38;5;21;01mfuzz\u001b[39;00m\n\u001b[0;32m      4\u001b[0m \u001b[38;5;28;01mimport\u001b[39;00m \u001b[38;5;21;01mmatplotlib\u001b[39;00m\u001b[38;5;21;01m.\u001b[39;00m\u001b[38;5;21;01mpyplot\u001b[39;00m \u001b[38;5;28;01mas\u001b[39;00m \u001b[38;5;21;01mplt\u001b[39;00m\n\u001b[0;32m      6\u001b[0m \u001b[38;5;66;03m# 1. Baca data dari file CSV\u001b[39;00m\n\u001b[0;32m      7\u001b[0m \u001b[38;5;66;03m# Ganti 'data.csv' dengan nama file Anda\u001b[39;00m\n",
      "\u001b[1;31mModuleNotFoundError\u001b[0m: No module named 'skfuzzy'"
     ]
    }
   ],
   "source": [
    "import numpy as np\n",
    "import pandas as pd\n",
    "import skfuzzy as fuzz\n",
    "import matplotlib.pyplot as plt\n",
    "\n",
    "# 1. Baca data dari file CSV\n",
    "# Ganti 'data.csv' dengan nama file Anda\n",
    "file_path = 'DataBaru2.csv'  # Masukkan path file CSV Anda\n",
    "data = pd.read_csv(file_path)\n",
    "\n",
    "# Asumsi data memiliki dua kolom numerik untuk clustering\n",
    "# Ganti \"col1\" dan \"col2\" dengan nama kolom dalam dataset Anda\n",
    "x = data[\"second\"].values\n",
    "y = data[\"pvpwr\"].values\n",
    "data_matrix = np.vstack((x, y))\n",
    "\n",
    "# 2. Set parameter untuk FCM\n",
    "n_clusters = 3    # Jumlah cluster\n",
    "error = 0.005     # Toleransi error\n",
    "max_iter = 100    # Iterasi maksimum\n",
    "\n",
    "# 3. Lakukan clustering dengan FCM\n",
    "cntr, u, u0, d, jm, p, fpc = fuzz.cluster.cmeans(\n",
    "    data_matrix, n_clusters, m=2, error=error, maxiter=max_iter, init=None\n",
    ")\n",
    "\n",
    "# 4. Hasil clustering\n",
    "cluster_membership = np.argmax(u, axis=0)  # Tentukan cluster tiap data\n",
    "\n",
    "# Tambahkan hasil clustering ke data asli untuk analisis\n",
    "data['Cluster'] = cluster_membership\n"
   ]
  },
  {
   "cell_type": "code",
   "execution_count": null,
   "id": "12f6d3ce-bf7d-4b6b-bcdb-5c508ccc7872",
   "metadata": {},
   "outputs": [],
   "source": [
    "# 5. Visualisasi hasil clustering\n",
    "colors = ['red', 'blue', 'green', 'purple', 'orange']\n",
    "\n",
    "plt.figure(figsize=(8, 8))\n",
    "for i in range(n_clusters):\n",
    "    plt.scatter(data_matrix[0, cluster_membership == i],\n",
    "                data_matrix[1, cluster_membership == i],\n",
    "                c=colors[i], label=f'Cluster {i+1}')\n",
    "\n",
    "# Plot centroid cluster\n",
    "plt.scatter(cntr[:, 0], cntr[:, 1], s=200, c='black', marker='x', label='Centroids')\n",
    "\n",
    "plt.title('Fuzzy C-Means Clustering')\n",
    "plt.xlabel('X-axis')\n",
    "plt.ylabel('Y-axis')\n",
    "plt.legend()\n",
    "plt.grid()\n",
    "plt.show()"
   ]
  }
 ],
 "metadata": {
  "kernelspec": {
   "display_name": "Python 3 (ipykernel)",
   "language": "python",
   "name": "python3"
  },
  "language_info": {
   "codemirror_mode": {
    "name": "ipython",
    "version": 3
   },
   "file_extension": ".py",
   "mimetype": "text/x-python",
   "name": "python",
   "nbconvert_exporter": "python",
   "pygments_lexer": "ipython3",
   "version": "3.12.4"
  }
 },
 "nbformat": 4,
 "nbformat_minor": 5
}
